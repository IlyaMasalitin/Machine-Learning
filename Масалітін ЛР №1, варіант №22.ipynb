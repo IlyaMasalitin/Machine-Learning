{
 "cells": [
  {
   "cell_type": "code",
   "execution_count": 24,
   "id": "ac4d2cda-5187-4aa0-9366-46ba4ba2e0c3",
   "metadata": {},
   "outputs": [],
   "source": [
    "#Лабораторна робта № 1 Варіант № 22 Масалітін Ілля Вадимович, ФІТ 4-8"
   ]
  },
  {
   "cell_type": "code",
   "execution_count": 25,
   "id": "1a7d7547-2301-4138-8cf5-03b75475683e",
   "metadata": {},
   "outputs": [
    {
     "name": "stdout",
     "output_type": "stream",
     "text": [
      "[2.71828183e+00 7.38905610e+00 2.00855369e+01 5.45981500e+01\n",
      " 1.48413159e+02 4.03428793e+02 1.09663316e+03 2.98095799e+03\n",
      " 8.10308393e+03 2.20264658e+04]\n"
     ]
    }
   ],
   "source": [
    "#1 Створіть одновимірний масив (вектор) зі значеннями 𝑒^𝑥 для кожного натурального числа x, починаючи з 1, та виведіть його значення.\n",
    "import numpy as np\n",
    "a = np.arange(1, 11)\n",
    "e_x = np.exp(a)\n",
    "print(e_x)"
   ]
  },
  {
   "cell_type": "code",
   "execution_count": 26,
   "id": "2f246af0-fa54-42b9-ad40-68ea8d67b763",
   "metadata": {},
   "outputs": [
    {
     "name": "stdout",
     "output_type": "stream",
     "text": [
      "[[ 1.55740772 -2.18503986 -0.14254654]\n",
      " [ 1.15782128 -3.38051501 -0.29100619]\n",
      " [ 0.87144798 -6.79971146 -0.45231566]]\n"
     ]
    }
   ],
   "source": [
    "#2 Створіть двовимірний масив (матрицю) розміром 3x3, заповніть його тангенсами кожного натурального числа, починаючи з 1, та виведіть його значення.\n",
    "import numpy as np\n",
    "a = np.arange(1, 10)\n",
    "tan_a = np.tan(a)\n",
    "\n",
    "tan_matrix = tan_a.reshape(3, 3)\n",
    "\n",
    "print(tan_matrix)"
   ]
  },
  {
   "cell_type": "code",
   "execution_count": 27,
   "id": "08b36258-24fb-479e-8846-57c7005d1c49",
   "metadata": {},
   "outputs": [
    {
     "name": "stdout",
     "output_type": "stream",
     "text": [
      "Масив 3x3:\n",
      "[[-0.23404362  0.56897629 -0.51501647]\n",
      " [-0.19290498  0.8346955   0.77100327]\n",
      " [ 0.06997221  0.94628844 -0.95557233]]\n",
      "Числа, які не є кратними 2:\n",
      "-0.2340436170556428\n",
      "0.5689762861846273\n",
      "-0.5150164726938571\n",
      "-0.19290497535385964\n",
      "0.8346954955389878\n",
      "0.7710032698474094\n",
      "0.0699722145982713\n",
      "0.9462884437127146\n",
      "-0.9555723313799136\n"
     ]
    }
   ],
   "source": [
    "#3 Створіть масив розміром 3x3, заповніть його випадковими дійсними числами від -1 до 1 та виведіть непарні числа.\n",
    "import numpy as np\n",
    "\n",
    "array = np.random.uniform(-1, 1, (3, 3))\n",
    "print(\"Масив 3x3:\")\n",
    "print(array)\n",
    "\n",
    "print(\"Числа, які не є кратними 2:\")\n",
    "for row in array:\n",
    "    for value in row:\n",
    "        if value % 2 != 0:\n",
    "            print(value)"
   ]
  },
  {
   "cell_type": "code",
   "execution_count": 28,
   "id": "4c357872-e3f8-427e-bc59-a73fb8bbaa04",
   "metadata": {},
   "outputs": [
    {
     "name": "stdout",
     "output_type": "stream",
     "text": [
      "Масив 4x4:\n",
      "[[-0.53405092  0.25935911 -0.28686854 -0.04875631]\n",
      " [-0.28734895  0.65547508  0.55994529  0.03902989]\n",
      " [-0.71239153  0.43451891 -0.3349505   0.67808982]\n",
      " [-0.37172287  0.76406474 -0.56797912 -0.41761437]]\n"
     ]
    }
   ],
   "source": [
    "#4 Створіть масив розміром 4x4, заповніть його випадковими дійсними числами від -0.8 до 0.8 та виведіть його значення.\n",
    "import numpy as np\n",
    "array = np.random.uniform(-0.8, 0.8, (4, 4))\n",
    "\n",
    "print(\"Масив 4x4:\")\n",
    "print(array)"
   ]
  },
  {
   "cell_type": "code",
   "execution_count": 29,
   "id": "2ec219bd-0403-45f7-9912-7c6ebd04529b",
   "metadata": {},
   "outputs": [
    {
     "name": "stdout",
     "output_type": "stream",
     "text": [
      "Масив 1:\n",
      "[12  8  7 12 13 13]\n",
      "Масив 2:\n",
      "[14  9  9  6  5 12]\n",
      "Додавання:\n",
      "[26 17 16 18 18 25]\n",
      "Віднімання:\n",
      "[-2 -1 -2  6  8  1]\n",
      "Множення:\n",
      "[168  72  63  72  65 156]\n"
     ]
    }
   ],
   "source": [
    "#5 Створіть два одновимірних масиви розміром 6, заповніть їх випадковими цілими числами в діапазоні від 5 до 15 та виконайте на них поелементні операції додавання, віднімання та множення.\n",
    "import numpy as np\n",
    "\n",
    "array1 = np.random.randint(5, 16, 6)\n",
    "array2 = np.random.randint(5, 16, 6)\n",
    "\n",
    "\n",
    "print(\"Масив 1:\")\n",
    "print(array1)\n",
    "\n",
    "print(\"Масив 2:\")\n",
    "print(array2)\n",
    "\n",
    "\n",
    "addition = array1 + array2\n",
    "subtraction = array1 - array2\n",
    "multiplication = array1 * array2\n",
    "\n",
    "\n",
    "print(\"Додавання:\")\n",
    "print(addition)\n",
    "\n",
    "print(\"Віднімання:\")\n",
    "print(subtraction)\n",
    "\n",
    "print(\"Множення:\")\n",
    "print(multiplication)"
   ]
  },
  {
   "cell_type": "code",
   "execution_count": 30,
   "id": "7cb6e8d1-558a-4c47-a251-50cf7304f4ab",
   "metadata": {},
   "outputs": [
    {
     "name": "stdout",
     "output_type": "stream",
     "text": [
      "Матриця 1:\n",
      "[[ 0  5  2 -6]\n",
      " [ 5 -3 -2 -5]\n",
      " [-4 -1 -4  6]\n",
      " [ 0 -1  0 -1]]\n",
      "Матриця 2:\n",
      "[[ 6  0 -3  6]\n",
      " [-4 -1 -1  3]\n",
      " [ 3 -2 -2  5]\n",
      " [ 3  6  4 -6]]\n",
      "Добуток матриць:\n",
      "[[-32 -45 -33  61]\n",
      " [ 21 -23 -28  41]\n",
      " [-14  45  45 -83]\n",
      " [  1  -5  -3   3]]\n"
     ]
    }
   ],
   "source": [
    "#6 Створіть дві матриці 4x4, заповніть їх довільними цілими числами від -6 до 6 та знайдіть їх добуток.\n",
    "import numpy as np\n",
    "\n",
    "matrix1 = np.random.randint(-6, 7, (4, 4))\n",
    "matrix2 = np.random.randint(-6, 7, (4, 4))\n",
    "\n",
    "\n",
    "print(\"Матриця 1:\")\n",
    "print(matrix1)\n",
    "\n",
    "print(\"Матриця 2:\")\n",
    "print(matrix2)\n",
    "\n",
    "\n",
    "\n",
    "product = np.dot(matrix1, matrix2)\n",
    "\n",
    "\n",
    "print(\"Добуток матриць:\")\n",
    "print(product)"
   ]
  },
  {
   "cell_type": "code",
   "execution_count": 31,
   "id": "7596e065-f0ad-4753-9b7c-c40b47aaf12a",
   "metadata": {},
   "outputs": [
    {
     "name": "stdout",
     "output_type": "stream",
     "text": [
      "Матриця 3x2:\n",
      "[[7 4]\n",
      " [7 7]\n",
      " [8 5]]\n",
      "Матриця 2x2:\n",
      "[[6 4]\n",
      " [6 1]]\n",
      "Добуток матриць:\n",
      "[[66 32]\n",
      " [84 35]\n",
      " [78 37]]\n"
     ]
    }
   ],
   "source": [
    "#7 Створіть дві матриці розміром 3x2 та 2x2, заповніть їх випадковими цілими числами в діапазоні від 1 до 8 та перемножте їх між собою.\n",
    "import numpy as np\n",
    "\n",
    "matrix1 = np.random.randint(1, 9, (3, 2))\n",
    "matrix2 = np.random.randint(1, 9, (2, 2))\n",
    "\n",
    "\n",
    "print(\"Матриця 3x2:\")\n",
    "print(matrix1)\n",
    "\n",
    "print(\"Матриця 2x2:\")\n",
    "print(matrix2)\n",
    "\n",
    "\n",
    "product = np.dot(matrix1, matrix2)\n",
    "\n",
    "\n",
    "print(\"Добуток матриць:\")\n",
    "print(product)"
   ]
  },
  {
   "cell_type": "code",
   "execution_count": 32,
   "id": "19cb29f0-0e87-4ab8-b7ba-dbabf2aa60aa",
   "metadata": {},
   "outputs": [
    {
     "name": "stdout",
     "output_type": "stream",
     "text": [
      "Матриця 3x3:\n",
      "[[3 3 7]\n",
      " [5 7 5]\n",
      " [2 3 6]]\n",
      "Обернена матриця:\n",
      "[[ 0.96428571  0.10714286 -1.21428571]\n",
      " [-0.71428571  0.14285714  0.71428571]\n",
      " [ 0.03571429 -0.10714286  0.21428571]]\n"
     ]
    }
   ],
   "source": [
    "#8 Створіть матрицю розміром 3x3, заповніть її випадковими цілими числами в діапазоні від 1 до 8 та знайдіть її обернену матрицю.\n",
    "import numpy as np\n",
    "\n",
    "\n",
    "matrix = np.random.randint(1, 9, (3, 3))\n",
    "\n",
    "print(\"Матриця 3x3:\")\n",
    "print(matrix)\n",
    "\n",
    "\n",
    "if np.linalg.det(matrix) != 0:\n",
    "    inverse_matrix = np.linalg.inv(matrix)\n",
    "    print(\"Обернена матриця:\")\n",
    "    print(inverse_matrix)\n",
    "else:\n",
    "    print(\"Матриця є виродженою і не має оберненої матриці.\")"
   ]
  },
  {
   "cell_type": "code",
   "execution_count": 33,
   "id": "f980c3a7-c12a-4fdd-b44a-46d008c0aee2",
   "metadata": {},
   "outputs": [
    {
     "name": "stdout",
     "output_type": "stream",
     "text": [
      "Матриця 4x4:\n",
      "[[ 0.15314794 -0.90459625  0.84533466  0.00177714]\n",
      " [-0.42701418  0.08289304 -0.23573802  0.22766583]\n",
      " [-0.68780639 -0.98045721  0.25705907 -0.52506337]\n",
      " [-0.4161957  -0.5547201   0.2065331  -0.95211199]]\n",
      "Транспонована матриця:\n",
      "[[ 0.15314794 -0.42701418 -0.68780639 -0.4161957 ]\n",
      " [-0.90459625  0.08289304 -0.98045721 -0.5547201 ]\n",
      " [ 0.84533466 -0.23573802  0.25705907  0.2065331 ]\n",
      " [ 0.00177714  0.22766583 -0.52506337 -0.95211199]]\n"
     ]
    }
   ],
   "source": [
    "#9 Створіть матрицю розміром 4x4, заповніть її випадковими дійсними числами в діапазоні від -1 до 1 та транспонуйте її.\n",
    "import numpy as np\n",
    "\n",
    "matrix = np.random.uniform(-1, 1, (4, 4))\n",
    "\n",
    "\n",
    "print(\"Матриця 4x4:\")\n",
    "print(matrix)\n",
    "\n",
    "\n",
    "transposed_matrix = np.transpose(matrix)\n",
    "\n",
    "\n",
    "print(\"Транспонована матриця:\")\n",
    "print(transposed_matrix)"
   ]
  },
  {
   "cell_type": "code",
   "execution_count": 34,
   "id": "e22977d9-445a-47ac-894b-cca289edca15",
   "metadata": {},
   "outputs": [
    {
     "name": "stdout",
     "output_type": "stream",
     "text": [
      "Матриця 3x4:\n",
      "[[0.16387457 0.28411656 0.38314614 0.92850822]\n",
      " [0.39969211 0.55990615 0.57455865 0.89850145]\n",
      " [0.85654818 0.58735121 0.5950211  0.27798746]]\n",
      "Вектор 4x1:\n",
      "[[ 5]\n",
      " [ 8]\n",
      " [10]\n",
      " [ 2]]\n",
      "Добуток матриці на вектор:\n",
      "[[ 8.78078319]\n",
      " [14.02029916]\n",
      " [15.48773645]]\n"
     ]
    }
   ],
   "source": [
    "#10 Створіть матрицю розміром 3x4 та вектор розміром 4x1, заповніть матрицю випадковими дійсними числами від 0 до 1, а вектор - випадковими цілими числами в діапазоні від 1 до 10, і знайдіть добуток матриці на вектор.\n",
    "import numpy as np\n",
    "\n",
    "matrix = np.random.uniform(0, 1, (3, 4))\n",
    "vector = np.random.randint(1, 11, (4, 1))\n",
    "\n",
    "\n",
    "print(\"Матриця 3x4:\")\n",
    "print(matrix)\n",
    "\n",
    "print(\"Вектор 4x1:\")\n",
    "print(vector)\n",
    "\n",
    "\n",
    "\n",
    "product = np.dot(matrix, vector)\n",
    "\n",
    "\n",
    "print(\"Добуток матриці на вектор:\")\n",
    "print(product)"
   ]
  },
  {
   "cell_type": "code",
   "execution_count": 35,
   "id": "40e561ab-8ffc-4303-898a-dc573fbd8943",
   "metadata": {},
   "outputs": [
    {
     "name": "stdout",
     "output_type": "stream",
     "text": [
      "Матриця 2x3:\n",
      "[[7 8 5]\n",
      " [3 9 4]]\n",
      "Вектор з 3 елементів:\n",
      "[0.48202313 0.54047881 0.85838638]\n",
      "Добуток матриці на вектор:\n",
      "[11.98992432  9.74392421]\n"
     ]
    }
   ],
   "source": [
    "#11 Створіть матрицю розміром 2x3 та вектор розміром 3, заповніть матрицю випадковими цілими числами в діапазоні від 1 до 10, а вектор - випадковими дійсними числами від 0 до 1, і знайдіть добуток матриці на вектор.\n",
    "import numpy as np\n",
    "\n",
    "matrix = np.random.randint(1, 11, (2, 3))\n",
    "vector = np.random.uniform(0, 1, 3)\n",
    "\n",
    "\n",
    "print(\"Матриця 2x3:\")\n",
    "print(matrix)\n",
    "\n",
    "print(\"Вектор з 3 елементів:\")\n",
    "print(vector)\n",
    "\n",
    "\n",
    "vector_col = vector.reshape(-1, 1)\n",
    "product = np.dot(matrix, vector)\n",
    "\n",
    "\n",
    "print(\"Добуток матриці на вектор:\")\n",
    "print(product)"
   ]
  },
  {
   "cell_type": "code",
   "execution_count": 36,
   "id": "9d0b5c76-cbda-44e2-8d5b-4ec5f5872439",
   "metadata": {},
   "outputs": [
    {
     "name": "stdout",
     "output_type": "stream",
     "text": [
      "Матриця 1:\n",
      "[[1 2 3]\n",
      " [2 1 1]\n",
      " [2 1 1]]\n",
      "Матриця 2:\n",
      "[[2 2 3]\n",
      " [3 3 2]\n",
      " [1 1 1]]\n",
      "Сума всіх елементів другої матриці:\n",
      "18\n"
     ]
    }
   ],
   "source": [
    "#12 Створіть дві матриці розміром 3x3, заповніть їх випадковими цілими числами в діапазоні від 1 до 3 та знайдіть суму всіх елементів другої матриці.\n",
    "import numpy as np\n",
    "\n",
    "matrix1 = np.random.randint(1, 4, (3, 3))\n",
    "matrix2 = np.random.randint(1, 4, (3, 3))\n",
    "\n",
    "\n",
    "print(\"Матриця 1:\")\n",
    "print(matrix1)\n",
    "\n",
    "print(\"Матриця 2:\")\n",
    "print(matrix2)\n",
    "\n",
    "\n",
    "\n",
    "sum_matrix2 = np.sum(matrix2)\n",
    "\n",
    "\n",
    "print(\"Сума всіх елементів другої матриці:\")\n",
    "print(sum_matrix2)"
   ]
  },
  {
   "cell_type": "code",
   "execution_count": 37,
   "id": "43c41d97-0645-4692-aa3e-15a036eaff36",
   "metadata": {},
   "outputs": [
    {
     "name": "stdout",
     "output_type": "stream",
     "text": [
      "Матриця 1:\n",
      "[[1 1 3]\n",
      " [1 3 3]\n",
      " [4 1 2]]\n",
      "Матриця 2:\n",
      "[[1 1 5]\n",
      " [1 4 2]\n",
      " [2 5 4]]\n",
      "Сума всіх елементів матриці 1:\n",
      "19\n",
      "Сума всіх елементів матриці 2:\n",
      "25\n",
      "Загальна сума всіх елементів обох матриць:\n",
      "44\n"
     ]
    }
   ],
   "source": [
    "#13 Створіть дві матриці розміром 3x3, заповніть їх випадковими цілими числами в діапазоні від 1 до 5 та знайдіть суму їх елементів.\n",
    "import numpy as np\n",
    "\n",
    "matrix1 = np.random.randint(1, 6, (3, 3))\n",
    "matrix2 = np.random.randint(1, 6, (3, 3))\n",
    "\n",
    "\n",
    "print(\"Матриця 1:\")\n",
    "print(matrix1)\n",
    "\n",
    "print(\"Матриця 2:\")\n",
    "print(matrix2)\n",
    "\n",
    "\n",
    "sum_matrix1 = np.sum(matrix1)\n",
    "sum_matrix2 = np.sum(matrix2)\n",
    "\n",
    "\n",
    "total_sum = sum_matrix1 + sum_matrix2\n",
    "\n",
    "\n",
    "print(\"Сума всіх елементів матриці 1:\")\n",
    "print(sum_matrix1)\n",
    "\n",
    "print(\"Сума всіх елементів матриці 2:\")\n",
    "print(sum_matrix2)\n",
    "\n",
    "print(\"Загальна сума всіх елементів обох матриць:\")\n",
    "print(total_sum)"
   ]
  },
  {
   "cell_type": "code",
   "execution_count": 38,
   "id": "c2cc1725-8bc1-460b-9818-fbb15249f47d",
   "metadata": {},
   "outputs": [
    {
     "name": "stdout",
     "output_type": "stream",
     "text": [
      "Матриця 3x3:\n",
      "[[ 4  8  7]\n",
      " [ 6  3  4]\n",
      " [ 3  5 10]]\n",
      "Сума елементів на головній діагоналі:\n",
      "17\n"
     ]
    }
   ],
   "source": [
    "#14 Створіть матрицю розміром 3x3, заповніть її випадковими цілими числами в діапазоні від 1 до 10 та знайдіть суму елементів на головній діагоналі.\n",
    "import numpy as np\n",
    "\n",
    "matrix = np.random.randint(1, 11, (3, 3))\n",
    "\n",
    "\n",
    "print(\"Матриця 3x3:\")\n",
    "print(matrix)\n",
    "\n",
    "\n",
    "diagonal_sum = np.trace(matrix)\n",
    "\n",
    "\n",
    "print(\"Сума елементів на головній діагоналі:\")\n",
    "print(diagonal_sum)"
   ]
  },
  {
   "cell_type": "code",
   "execution_count": 39,
   "id": "7100f898-bb41-4709-99e5-818b83b94977",
   "metadata": {},
   "outputs": [
    {
     "name": "stdout",
     "output_type": "stream",
     "text": [
      "Матриця 3x3:\n",
      "[[-0.50870369 -0.23982927  0.39198057]\n",
      " [ 0.14302541 -0.53664448 -0.80274295]\n",
      " [ 0.35506284  0.16125956  0.64358138]]\n",
      "Вектор-стовпчик з добутком елементів кожного стовпця:\n",
      "[[-0.0258335 ]\n",
      " [ 0.0207546 ]\n",
      " [-0.20250909]]\n"
     ]
    }
   ],
   "source": [
    "#15 Створіть матрицю розміром 3x3, заповніть її випадковими дійсними числами в діапазоні від -1 до 1 та знайдіть вектор-стовпчик, що містить добуток елементів кожного стовпця матриці.\n",
    "import numpy as np\n",
    "\n",
    "matrix = np.random.uniform(-1, 1, (3, 3))\n",
    "\n",
    "\n",
    "print(\"Матриця 3x3:\")\n",
    "print(matrix)\n",
    "\n",
    "\n",
    "column_products = np.prod(matrix, axis=0)\n",
    "\n",
    "column_products_column_vector = column_products.reshape(-1, 1)\n",
    "\n",
    "\n",
    "print(\"Вектор-стовпчик з добутком елементів кожного стовпця:\")\n",
    "print(column_products_column_vector)"
   ]
  },
  {
   "cell_type": "code",
   "execution_count": null,
   "id": "b8b97e83-9c54-4b6c-9ef4-fe2c994bbfb3",
   "metadata": {},
   "outputs": [],
   "source": [
    "#Висновок: Виконуючи цю лабораторну роботу, я ознайомився з бібліотекою NumPy, а також навчився використовувати меотди даної бібліотеки. "
   ]
  }
 ],
 "metadata": {
  "kernelspec": {
   "display_name": "Python 3 (ipykernel)",
   "language": "python",
   "name": "python3"
  },
  "language_info": {
   "codemirror_mode": {
    "name": "ipython",
    "version": 3
   },
   "file_extension": ".py",
   "mimetype": "text/x-python",
   "name": "python",
   "nbconvert_exporter": "python",
   "pygments_lexer": "ipython3",
   "version": "3.10.6"
  }
 },
 "nbformat": 4,
 "nbformat_minor": 5
}
