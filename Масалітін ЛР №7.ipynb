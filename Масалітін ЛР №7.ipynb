{
 "cells": [
  {
   "cell_type": "code",
   "execution_count": 1,
   "id": "659200c6-f3d0-433e-9d36-e2895cd0e66b",
   "metadata": {},
   "outputs": [],
   "source": [
    "#Лабораторна робота № 7 Масалітін Ілля Вадимович ФІТ 4-8"
   ]
  },
  {
   "cell_type": "code",
   "execution_count": 2,
   "id": "a263b8eb-c28c-4a24-8cff-f415756999a0",
   "metadata": {},
   "outputs": [
    {
     "name": "stdout",
     "output_type": "stream",
     "text": [
      "User: 0, Item: 0, Rating: 3.0\n",
      "User: 0, Item: 528, Rating: 4.0\n",
      "User: 0, Item: 377, Rating: 4.0\n",
      "User: 0, Item: 522, Rating: 3.0\n",
      "User: 0, Item: 431, Rating: 5.0\n"
     ]
    }
   ],
   "source": [
    "from surprise import Dataset\n",
    "\n",
    "data = Dataset.load_builtin('ml-100k')\n",
    "\n",
    "trainset = data.build_full_trainset()\n",
    "for i, (uid, iid, rating) in enumerate(trainset.all_ratings()):\n",
    "    if i >= 5:\n",
    "        break\n",
    "    print(f\"User: {uid}, Item: {iid}, Rating: {rating}\")\n"
   ]
  },
  {
   "cell_type": "code",
   "execution_count": 3,
   "id": "afd1f3c4-24e2-4100-bb6a-3257c15736c4",
   "metadata": {},
   "outputs": [
    {
     "name": "stdout",
     "output_type": "stream",
     "text": [
      "Computing the msd similarity matrix...\n",
      "Done computing similarity matrix.\n",
      "Computing the msd similarity matrix...\n",
      "Done computing similarity matrix.\n",
      "Computing the msd similarity matrix...\n",
      "Done computing similarity matrix.\n",
      "Computing the msd similarity matrix...\n",
      "Done computing similarity matrix.\n",
      "Computing the msd similarity matrix...\n",
      "Done computing similarity matrix.\n",
      "Evaluating MAE of algorithm KNNBasic on 5 split(s).\n",
      "\n",
      "                  Fold 1  Fold 2  Fold 3  Fold 4  Fold 5  Mean    Std     \n",
      "MAE (testset)     0.7689  0.7753  0.7759  0.7741  0.7706  0.7730  0.0027  \n",
      "Fit time          0.35    0.41    0.37    0.37    0.37    0.37    0.02    \n",
      "Test time         1.81    1.81    1.80    1.82    1.81    1.81    0.01    \n",
      "Evaluating MAE of algorithm SVD on 5 split(s).\n",
      "\n",
      "                  Fold 1  Fold 2  Fold 3  Fold 4  Fold 5  Mean    Std     \n",
      "MAE (testset)     0.7354  0.7425  0.7390  0.7349  0.7418  0.7387  0.0031  \n",
      "Fit time          0.75    0.76    0.78    0.77    0.76    0.76    0.01    \n",
      "Test time         0.08    0.12    0.12    0.15    0.08    0.11    0.03    \n"
     ]
    }
   ],
   "source": [
    "from surprise import KNNBasic, SVD\n",
    "from surprise.model_selection import cross_validate\n",
    "\n",
    "knn = KNNBasic()\n",
    "knn_results = cross_validate(knn, data, measures=['MAE'], cv=5, verbose=True)\n",
    "\n",
    "svd = SVD()\n",
    "svd_results = cross_validate(svd, data, measures=['MAE'], cv=5, verbose=True)\n"
   ]
  },
  {
   "cell_type": "code",
   "execution_count": 4,
   "id": "3012f4b1-6f4e-4138-9bd0-b10bbd5606b9",
   "metadata": {},
   "outputs": [
    {
     "name": "stdout",
     "output_type": "stream",
     "text": [
      "Computing the pearson similarity matrix...\n",
      "Done computing similarity matrix.\n",
      "Computing the pearson similarity matrix...\n",
      "Done computing similarity matrix.\n",
      "Computing the pearson similarity matrix...\n",
      "Done computing similarity matrix.\n",
      "Computing the pearson similarity matrix...\n",
      "Done computing similarity matrix.\n",
      "Computing the pearson similarity matrix...\n",
      "Done computing similarity matrix.\n",
      "Computing the pearson similarity matrix...\n",
      "Done computing similarity matrix.\n",
      "Computing the pearson similarity matrix...\n",
      "Done computing similarity matrix.\n",
      "Computing the pearson similarity matrix...\n",
      "Done computing similarity matrix.\n",
      "Computing the pearson similarity matrix...\n",
      "Done computing similarity matrix.\n",
      "Computing the pearson similarity matrix...\n",
      "Done computing similarity matrix.\n",
      "Найкращі параметри для KNN: {'k': 30, 'min_k': 1, 'sim_options': {'name': 'pearson', 'user_based': True}}\n",
      "Найкращі параметри для SVD: {'n_factors': 100, 'reg_all': 0.1, 'lr_all': 0.01}\n"
     ]
    }
   ],
   "source": [
    "from surprise.model_selection import GridSearchCV\n",
    "\n",
    "param_grid_knn = {\n",
    "    'k': [20, 30],  \n",
    "    'min_k': [1],  \n",
    "    'sim_options': {\n",
    "        'name': ['pearson'],  \n",
    "        'user_based': [True]  \n",
    "    }\n",
    "}\n",
    "gs_knn = GridSearchCV(KNNBasic, param_grid_knn, measures=['mae'], cv=5)\n",
    "gs_knn.fit(data)\n",
    "print(\"Найкращі параметри для KNN:\", gs_knn.best_params['mae'])\n",
    "\n",
    "param_grid_svd = {'n_factors': [50, 100], 'reg_all': [0.02, 0.1], 'lr_all': [0.005, 0.01]}\n",
    "gs_svd = GridSearchCV(SVD, param_grid_svd, measures=['mae'], cv=5)\n",
    "gs_svd.fit(data)\n",
    "print(\"Найкращі параметри для SVD:\", gs_svd.best_params['mae'])\n"
   ]
  },
  {
   "cell_type": "code",
   "execution_count": 5,
   "id": "3a8180ea-a2e1-45ba-b939-a7032bd4da08",
   "metadata": {},
   "outputs": [
    {
     "name": "stdout",
     "output_type": "stream",
     "text": [
      "Найкращий алгоритм: SVD\n"
     ]
    }
   ],
   "source": [
    "if gs_knn.best_score['mae'] < gs_svd.best_score['mae']:\n",
    "    best_algorithm = 'KNN'\n",
    "    best_model = gs_knn.best_estimator['mae']\n",
    "else:\n",
    "    best_algorithm = 'SVD'\n",
    "    best_model = gs_svd.best_estimator['mae']\n",
    "\n",
    "print(f\"Найкращий алгоритм: {best_algorithm}\")\n"
   ]
  },
  {
   "cell_type": "code",
   "execution_count": 7,
   "id": "50276e82-6f92-42e9-8d00-a4c842f462eb",
   "metadata": {},
   "outputs": [
    {
     "name": "stdout",
     "output_type": "stream",
     "text": [
      "Топ 10 рекомендацій:\n",
      "Item: 1449, Estimated Rating: 4.469325795800039\n",
      "Item: 64, Estimated Rating: 4.4393062006881845\n",
      "Item: 318, Estimated Rating: 4.422667198082842\n",
      "Item: 408, Estimated Rating: 4.377413362388025\n",
      "Item: 169, Estimated Rating: 4.373853944999849\n",
      "Item: 603, Estimated Rating: 4.325909394052005\n",
      "Item: 12, Estimated Rating: 4.311569942178592\n",
      "Item: 114, Estimated Rating: 4.28155419657698\n",
      "Item: 483, Estimated Rating: 4.2729235974288065\n",
      "Item: 178, Estimated Rating: 4.251824674720407\n"
     ]
    }
   ],
   "source": [
    "trainset = data.build_full_trainset()\n",
    "best_model.fit(trainset)\n",
    "\n",
    "user_id = str(196)\n",
    "items = trainset.all_items()\n",
    "items_rated_by_user = [item for (item, rating) in trainset.ur[trainset.to_inner_uid(user_id)]]\n",
    "\n",
    "recommendations = []\n",
    "for item in items:\n",
    "    if item not in items_rated_by_user:\n",
    "        recommendations.append((item, best_model.predict(user_id, trainset.to_raw_iid(item)).est))\n",
    "        \n",
    "recommendations.sort(key=lambda x: x[1], reverse=True)\n",
    "top_10_recommendations = recommendations[:10]\n",
    "\n",
    "print(\"Топ 10 рекомендацій:\")\n",
    "for item, rating in top_10_recommendations:\n",
    "    print(f\"Item: {trainset.to_raw_iid(item)}, Estimated Rating: {rating}\")\n"
   ]
  },
  {
   "cell_type": "code",
   "execution_count": null,
   "id": "bfd42b01-cbb1-4aef-b16f-126a54854c0f",
   "metadata": {},
   "outputs": [],
   "source": [
    "#2"
   ]
  },
  {
   "cell_type": "code",
   "execution_count": 11,
   "id": "9f6359c2-1b95-4bc8-a295-6b9460225527",
   "metadata": {},
   "outputs": [
    {
     "name": "stdout",
     "output_type": "stream",
     "text": [
      "movieId\n",
      "10    0.0\n",
      "32    0.0\n",
      "dtype: float64\n"
     ]
    }
   ],
   "source": [
    "import pandas as pd\n",
    "from sklearn.metrics.pairwise import cosine_similarity\n",
    "\n",
    "ratings = pd.read_csv('D:\\\\recomendations.csv')\n",
    "\n",
    "user_item_matrix = ratings.pivot(index='userId', columns='movieId', values='rating')\n",
    "\n",
    "user_similarity = cosine_similarity(user_item_matrix.fillna(0))\n",
    "\n",
    "user_id = 1\n",
    "user_ratings = user_item_matrix.loc[user_id].dropna()\n",
    "predicted_ratings = (user_similarity[user_id-1] @ user_item_matrix.fillna(0)) / user_similarity[user_id-1].sum()\n",
    "\n",
    "recommended_items = predicted_ratings[user_item_matrix.loc[user_id].isna()].nlargest(10)\n",
    "print(recommended_items)\n"
   ]
  },
  {
   "cell_type": "code",
   "execution_count": null,
   "id": "500d6903-cfca-4ff6-ad44-b595db4fa2da",
   "metadata": {},
   "outputs": [],
   "source": [
    "#Висновки: На основі датасету ml-100k ми реалізували алгоритми KNNBasic та SVD, також ми виявили що алгоритм SVD являється найбіль еффективним у роботі\n",
    "#з великими матрицями.Рекомендацыйна система була створена на основы косынусної схожості."
   ]
  }
 ],
 "metadata": {
  "kernelspec": {
   "display_name": "Python 3 (ipykernel)",
   "language": "python",
   "name": "python3"
  },
  "language_info": {
   "codemirror_mode": {
    "name": "ipython",
    "version": 3
   },
   "file_extension": ".py",
   "mimetype": "text/x-python",
   "name": "python",
   "nbconvert_exporter": "python",
   "pygments_lexer": "ipython3",
   "version": "3.10.6"
  }
 },
 "nbformat": 4,
 "nbformat_minor": 5
}
